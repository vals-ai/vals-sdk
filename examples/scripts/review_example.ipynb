{
 "cells": [
  {
   "cell_type": "code",
   "execution_count": 21,
   "id": "a25880bf",
   "metadata": {},
   "outputs": [],
   "source": [
    "from vals.sdk.run import Run\n",
    "from vals.sdk.run_review import SingleRunReview\n",
    "from vals.sdk.suite import Suite\n",
    "from vals.sdk.types import Test, Check\n",
    "from vals import configure_credentials\n",
    "import os\n",
    "\n",
    "configure_credentials(api_key=os.getenv(\"VALS_API_KEY\") or \"\")\n",
    "\n",
    "\n",
    "async def create_suite_example():   \n",
    "\n",
    "    suite = Suite(\n",
    "        title=\"Jeopardy Knowledge Test Suite\",\n",
    "        description=\"Testing model knowledge with classic Jeopardy-style questions\",\n",
    "        global_checks=[\n",
    "            Check(operator=\"grammar\"),\n",
    "        ],\n",
    "        tests=[\n",
    "            Test(\n",
    "                input_under_test=\"This planet is known as the Red Planet.\",\n",
    "                checks=[\n",
    "                    Check(operator=\"includes\", criteria=\"Mars\"),\n",
    "                ],\n",
    "            ),\n",
    "            Test(\n",
    "                input_under_test=\"This author wrote 'To Kill a Mockingbird'.\",\n",
    "                checks=[\n",
    "                    Check(operator=\"includes\", criteria=\"Harper Lee\"),\n",
    "                ],\n",
    "            ),\n",
    "            Test(\n",
    "                input_under_test=\"This is the chemical symbol for gold.\",\n",
    "                checks=[\n",
    "                    Check(operator=\"includes\", criteria=\"Au\"),\n",
    "                ],\n",
    "            ),\n",
    "            Test(\n",
    "                input_under_test=\"This country is home to Machu Picchu.\",\n",
    "                checks=[\n",
    "                    Check(operator=\"includes\", criteria=\"Peru\"),\n",
    "                ],\n",
    "            ),\n",
    "            Test(\n",
    "                input_under_test=\"This is the largest ocean on Earth.\",\n",
    "                checks=[\n",
    "                    Check(operator=\"includes\", criteria=\"Pacific\"),\n",
    "                ],\n",
    "            ),\n",
    "            Test(\n",
    "                input_under_test=\"This scientist developed the theory of relativity.\",\n",
    "                checks=[\n",
    "                    Check(operator=\"includes\", criteria=\"Einstein\"),\n",
    "                ],\n",
    "            ),\n",
    "            Test(\n",
    "                input_under_test=\"This Shakespeare play features the characters Romeo and Juliet.\",\n",
    "                checks=[\n",
    "                    Check(operator=\"includes\", criteria=\"Romeo and Juliet\"),\n",
    "                ],\n",
    "            ),\n",
    "            Test(\n",
    "                input_under_test=\"This is the capital city of France.\",\n",
    "                checks=[\n",
    "                    Check(operator=\"includes\", criteria=\"Paris\"),\n",
    "                ],\n",
    "            ),\n",
    "        ],\n",
    "    )\n",
    "\n",
    "    await suite.create()\n",
    "    print(f\"Created suite: {suite.title} (ID: {suite.id})\")\n",
    "\n",
    "    return suite\n",
    "\n",
    " \n",
    "async def run_suite_example(suite: Suite):\n",
    "    run = await suite.run(\n",
    "        model=\"gpt-4o-mini\", \n",
    "        run_name=\"Jeopardy Knowledge Test Run\",\n",
    "        wait_for_completion=True\n",
    "    )\n",
    "\n",
    "    print(f\"Run completed: {run.name} (ID: {run.id})\")\n",
    "    print(f\"Pass rate: {run.pass_rate:.2%}\" if run.pass_rate else \"Pass rate: N/A\")\n",
    "    print(f\"Status: {run.status}\")\n",
    "\n",
    "    return run\n",
    "\n",
    "\n",
    "async def add_to_queue_example(run: Run):\n",
    "    await run.add_to_queue(\n",
    "        number_of_reviews=2,\n",
    "        rereview_auto_eval=True\n",
    "    )\n",
    "    \n",
    "    print(f\"Added run {run.id} to human review queue\")\n",
    "    \n",
    "\n",
    "async def get_review_example(run: Run) -> SingleRunReview:\n",
    "    assert run.run_review_id is not None\n",
    "\n",
    "    review = await SingleRunReview.from_id(run.run_review_id)\n",
    "    \n",
    "    print(f\"Review status: {review.status}\")\n",
    "    print(f\"Review created by: {review.created_by}\")\n",
    "    print(f\"Review number of reviews: {review.number_of_reviews}\")\n",
    "    print(f\"Review assigned reviewers: {review.assigned_reviewers}\")\n",
    "\n",
    "    return review\n",
    "\n",
    "async def modify_review_example(review: SingleRunReview) -> None:\n",
    "    await review.modify_queue(\n",
    "        assigned_reviewers=[\"jaret@vals.ai\", \"jarett+1@vals.ai\"]\n",
    "    )\n",
    "\n",
    "    print(f\"Review modified: {review.assigned_reviewers}\")\n",
    "\n"
   ]
  },
  {
   "cell_type": "code",
   "execution_count": null,
   "id": "c5cbcbe6",
   "metadata": {},
   "outputs": [
    {
     "name": "stderr",
     "output_type": "stream",
     "text": [
      "Checking each test for files to upload: 100%|██████████| 8/8 [00:00<00:00, 24018.92it/s]\n"
     ]
    },
    {
     "name": "stdout",
     "output_type": "stream",
     "text": [
      "No files found or no files need uploading.\n"
     ]
    },
    {
     "name": "stderr",
     "output_type": "stream",
     "text": [
      "Uploading tests: 100%|██████████| 8/8 [00:00<00:00, 12.54it/s]"
     ]
    },
    {
     "name": "stdout",
     "output_type": "stream",
     "text": [
      "Created suite: Jeopardy Knowledge Test Suite (ID: 80fa466e-cf01-40e9-8d63-c318607a1a0f)\n"
     ]
    },
    {
     "name": "stderr",
     "output_type": "stream",
     "text": [
      "\n"
     ]
    }
   ],
   "source": [
    "suite = await create_suite_example()\n",
    "\n",
    "run = await run_suite_example(suite)"
   ]
  },
  {
   "cell_type": "code",
   "execution_count": null,
   "id": "9bb0005b",
   "metadata": {},
   "outputs": [
    {
     "name": "stdout",
     "output_type": "stream",
     "text": [
      "Added run b1baff3a-8962-450b-9e85-781e9875301c to human review queue\n"
     ]
    }
   ],
   "source": [
    "\n",
    "await add_to_queue_example(run)"
   ]
  },
  {
   "cell_type": "code",
   "execution_count": 22,
   "id": "03c1dae1",
   "metadata": {},
   "outputs": [
    {
     "name": "stdout",
     "output_type": "stream",
     "text": [
      "Review status: RunReviewStatusEnum.PENDING\n",
      "Review created by: jarett@vals.ai\n",
      "Review number of reviews: 2\n",
      "Review assigned reviewers: ['jaret@vals.ai']\n",
      "Review modified: ['jaret@vals.ai', 'jarett+1@vals.ai']\n"
     ]
    }
   ],
   "source": [
    "review = await get_review_example(run)\n",
    "\n",
    "await modify_review_example(review)"
   ]
  }
 ],
 "metadata": {
  "kernelspec": {
   "display_name": ".venv",
   "language": "python",
   "name": "python3"
  },
  "language_info": {
   "codemirror_mode": {
    "name": "ipython",
    "version": 3
   },
   "file_extension": ".py",
   "mimetype": "text/x-python",
   "name": "python",
   "nbconvert_exporter": "python",
   "pygments_lexer": "ipython3",
   "version": "3.12.7"
  }
 },
 "nbformat": 4,
 "nbformat_minor": 5
}
