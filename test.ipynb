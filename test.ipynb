{
 "cells": [
  {
   "cell_type": "code",
   "execution_count": 1,
   "metadata": {},
   "outputs": [],
   "source": [
    "import os"
   ]
  },
  {
   "cell_type": "code",
   "execution_count": 2,
   "metadata": {},
   "outputs": [],
   "source": [
    "# local env\n",
    "os.environ[\"VALS_SERVER_ENV\"] = \"LOCAL\"\n",
    "os.environ[\"VALS_ENV\"] = \"LOCAL\""
   ]
  },
  {
   "cell_type": "code",
   "execution_count": 3,
   "metadata": {},
   "outputs": [
    {
     "data": {
      "text/plain": [
       "'K2yvpMDDnHSsqU67xHr8obJjeGjvtPqdnwPnxQHFBA8C1hmilcmItUXXU6b4MzoIlUTz0Mn'"
      ]
     },
     "execution_count": 3,
     "metadata": {},
     "output_type": "execute_result"
    }
   ],
   "source": [
    "# local api key\n",
    "os.environ['VALS_API_KEY'] = 'K2yvpMDDnHSsqU67xHr8obJjeGjvtPqdnwPnxQHFBA8C1hmilcmItUXXU6b4MzoIlUTz0Mn'\n",
    "os.environ['VALS_API_KEY']"
   ]
  },
  {
   "cell_type": "code",
   "execution_count": 4,
   "metadata": {},
   "outputs": [],
   "source": [
    "# RUN_ID = 'c1ca7e3c-9c9c-4cf6-8028-e00fff79d5d8' # all\n",
    "# RUN_ID = 'b74968ca-1aea-45f0-9578-5807f85b3a9b' # small\n",
    "RUN_ID = 'b538968c-286c-4ba9-8a37-8fb26c0a0df6' # broken"
   ]
  },
  {
   "cell_type": "code",
   "execution_count": 6,
   "metadata": {},
   "outputs": [],
   "source": [
    "from vals import Run\n",
    "run = await Run.from_id(RUN_ID)"
   ]
  },
  {
   "cell_type": "code",
   "execution_count": 12,
   "metadata": {},
   "outputs": [],
   "source": [
    "content"
   ]
  },
  {
   "cell_type": "code",
   "execution_count": 8,
   "metadata": {},
   "outputs": [
    {
     "name": "stdout",
     "output_type": "stream",
     "text": [
      "Testing rerun_all_checks on run: #2: lcb jank\n",
      "Current status: RunStatus.SUCCESS\n",
      "Test results count: 1\n"
     ]
    },
    {
     "ename": "AttributeError",
     "evalue": "'Check' object has no attribute 'to_graphql'",
     "output_type": "error",
     "traceback": [
      "\u001b[31m---------------------------------------------------------------------------\u001b[39m",
      "\u001b[31mAttributeError\u001b[39m                            Traceback (most recent call last)",
      "\u001b[36mCell\u001b[39m\u001b[36m \u001b[39m\u001b[32mIn[8]\u001b[39m\u001b[32m, line 7\u001b[39m\n\u001b[32m      4\u001b[39m \u001b[38;5;28mprint\u001b[39m(\u001b[33mf\u001b[39m\u001b[33m\"\u001b[39m\u001b[33mTest results count: \u001b[39m\u001b[38;5;132;01m{\u001b[39;00m\u001b[38;5;28mlen\u001b[39m(run.test_results)\u001b[38;5;132;01m}\u001b[39;00m\u001b[33m\"\u001b[39m)\n\u001b[32m      6\u001b[39m \u001b[38;5;66;03m# Test the new method\u001b[39;00m\n\u001b[32m----> \u001b[39m\u001b[32m7\u001b[39m \u001b[38;5;28;01mawait\u001b[39;00m run.rerun_all_checks()\n",
      "\u001b[36mFile \u001b[39m\u001b[32m~/vals/vals-sdk/vals/sdk/run.py:352\u001b[39m, in \u001b[36mRun.rerun_all_checks\u001b[39m\u001b[34m(self)\u001b[39m\n\u001b[32m    344\u001b[39m \u001b[38;5;28;01mawait\u001b[39;00m \u001b[38;5;28mself\u001b[39m._client.update_run_status(\n\u001b[32m    345\u001b[39m     run_id=\u001b[38;5;28mself\u001b[39m.id, status=RunStatus.IN_PROGRESS.value.upper()\n\u001b[32m    346\u001b[39m )\n\u001b[32m    348\u001b[39m \u001b[38;5;66;03m# Trigger re-evaluation by updating the run's global checks\u001b[39;00m\n\u001b[32m    349\u001b[39m \u001b[38;5;66;03m# This will cause the platform to re-evaluate all existing responses\u001b[39;00m\n\u001b[32m    350\u001b[39m \u001b[38;5;28;01mawait\u001b[39;00m \u001b[38;5;28mself\u001b[39m._client.update_global_checks(\n\u001b[32m    351\u001b[39m     run_id=\u001b[38;5;28mself\u001b[39m.id,\n\u001b[32m--> \u001b[39m\u001b[32m352\u001b[39m     checks=\u001b[43m[\u001b[49m\u001b[43mcheck\u001b[49m\u001b[43m.\u001b[49m\u001b[43mto_graphql\u001b[49m\u001b[43m(\u001b[49m\u001b[43m)\u001b[49m\u001b[43m \u001b[49m\u001b[38;5;28;43;01mfor\u001b[39;49;00m\u001b[43m \u001b[49m\u001b[43mtest\u001b[49m\u001b[43m \u001b[49m\u001b[38;5;129;43;01min\u001b[39;49;00m\u001b[43m \u001b[49m\u001b[43msuite\u001b[49m\u001b[43m.\u001b[49m\u001b[43mtests\u001b[49m\u001b[43m \u001b[49m\u001b[38;5;28;43;01mfor\u001b[39;49;00m\u001b[43m \u001b[49m\u001b[43mcheck\u001b[49m\u001b[43m \u001b[49m\u001b[38;5;129;43;01min\u001b[39;49;00m\u001b[43m \u001b[49m\u001b[43mtest\u001b[49m\u001b[43m.\u001b[49m\u001b[43mchecks\u001b[49m\u001b[43m]\u001b[49m\n\u001b[32m    353\u001b[39m )\n",
      "\u001b[36mFile \u001b[39m\u001b[32m~/vals/vals-sdk/vals/sdk/run.py:352\u001b[39m, in \u001b[36m<listcomp>\u001b[39m\u001b[34m(.0)\u001b[39m\n\u001b[32m    344\u001b[39m \u001b[38;5;28;01mawait\u001b[39;00m \u001b[38;5;28mself\u001b[39m._client.update_run_status(\n\u001b[32m    345\u001b[39m     run_id=\u001b[38;5;28mself\u001b[39m.id, status=RunStatus.IN_PROGRESS.value.upper()\n\u001b[32m    346\u001b[39m )\n\u001b[32m    348\u001b[39m \u001b[38;5;66;03m# Trigger re-evaluation by updating the run's global checks\u001b[39;00m\n\u001b[32m    349\u001b[39m \u001b[38;5;66;03m# This will cause the platform to re-evaluate all existing responses\u001b[39;00m\n\u001b[32m    350\u001b[39m \u001b[38;5;28;01mawait\u001b[39;00m \u001b[38;5;28mself\u001b[39m._client.update_global_checks(\n\u001b[32m    351\u001b[39m     run_id=\u001b[38;5;28mself\u001b[39m.id,\n\u001b[32m--> \u001b[39m\u001b[32m352\u001b[39m     checks=[\u001b[43mcheck\u001b[49m\u001b[43m.\u001b[49m\u001b[43mto_graphql\u001b[49m() \u001b[38;5;28;01mfor\u001b[39;00m test \u001b[38;5;129;01min\u001b[39;00m suite.tests \u001b[38;5;28;01mfor\u001b[39;00m check \u001b[38;5;129;01min\u001b[39;00m test.checks]\n\u001b[32m    353\u001b[39m )\n",
      "\u001b[36mFile \u001b[39m\u001b[32m~/anaconda3/envs/vals/lib/python3.11/site-packages/pydantic/main.py:989\u001b[39m, in \u001b[36mBaseModel.__getattr__\u001b[39m\u001b[34m(self, item)\u001b[39m\n\u001b[32m    986\u001b[39m     \u001b[38;5;28;01mreturn\u001b[39;00m \u001b[38;5;28msuper\u001b[39m().\u001b[34m__getattribute__\u001b[39m(item)  \u001b[38;5;66;03m# Raises AttributeError if appropriate\u001b[39;00m\n\u001b[32m    987\u001b[39m \u001b[38;5;28;01melse\u001b[39;00m:\n\u001b[32m    988\u001b[39m     \u001b[38;5;66;03m# this is the current error\u001b[39;00m\n\u001b[32m--> \u001b[39m\u001b[32m989\u001b[39m     \u001b[38;5;28;01mraise\u001b[39;00m \u001b[38;5;167;01mAttributeError\u001b[39;00m(\u001b[33mf\u001b[39m\u001b[33m'\u001b[39m\u001b[38;5;132;01m{\u001b[39;00m\u001b[38;5;28mtype\u001b[39m(\u001b[38;5;28mself\u001b[39m).\u001b[34m__name__\u001b[39m\u001b[38;5;132;01m!r}\u001b[39;00m\u001b[33m object has no attribute \u001b[39m\u001b[38;5;132;01m{\u001b[39;00mitem\u001b[38;5;132;01m!r}\u001b[39;00m\u001b[33m'\u001b[39m)\n",
      "\u001b[31mAttributeError\u001b[39m: 'Check' object has no attribute 'to_graphql'"
     ]
    }
   ],
   "source": [
    "# Test the new rerun_all_checks method\n",
    "print(f\"Testing rerun_all_checks on run: {run.name}\")\n",
    "print(f\"Current status: {run.status}\")\n",
    "print(f\"Test results count: {len(run.test_results)}\")\n",
    "\n",
    "# Test the new method\n",
    "await run.rerun_all_checks()"
   ]
  },
  {
   "cell_type": "code",
   "execution_count": null,
   "metadata": {},
   "outputs": [],
   "source": []
  }
 ],
 "metadata": {
  "kernelspec": {
   "display_name": "vals",
   "language": "python",
   "name": "python3"
  },
  "language_info": {
   "codemirror_mode": {
    "name": "ipython",
    "version": 3
   },
   "file_extension": ".py",
   "mimetype": "text/x-python",
   "name": "python",
   "nbconvert_exporter": "python",
   "pygments_lexer": "ipython3",
   "version": "3.11.11"
  }
 },
 "nbformat": 4,
 "nbformat_minor": 2
}
